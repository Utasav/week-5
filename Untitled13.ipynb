{
  "nbformat": 4,
  "nbformat_minor": 0,
  "metadata": {
    "colab": {
      "provenance": []
    },
    "kernelspec": {
      "name": "python3",
      "display_name": "Python 3"
    },
    "language_info": {
      "name": "python"
    }
  },
  "cells": [
    {
      "cell_type": "code",
      "source": [
        "pip install PyPDF2"
      ],
      "metadata": {
        "colab": {
          "base_uri": "https://localhost:8080/"
        },
        "id": "oFMa-Frpwc2R",
        "outputId": "206105ac-f661-4cdd-9a32-32fbe952d02e"
      },
      "execution_count": 5,
      "outputs": [
        {
          "output_type": "stream",
          "name": "stdout",
          "text": [
            "Collecting PyPDF2\n",
            "  Downloading pypdf2-3.0.1-py3-none-any.whl.metadata (6.8 kB)\n",
            "Downloading pypdf2-3.0.1-py3-none-any.whl (232 kB)\n",
            "\u001b[?25l   \u001b[90m━━━━━━━━━━━━━━━━━━━━━━━━━━━━━━━━━━━━━━━━\u001b[0m \u001b[32m0.0/232.6 kB\u001b[0m \u001b[31m?\u001b[0m eta \u001b[36m-:--:--\u001b[0m\r\u001b[2K   \u001b[91m━━━━━━━━━━━━━━━━━━━━━━━━━━\u001b[0m\u001b[90m╺\u001b[0m\u001b[90m━━━━━━━━━━━━━\u001b[0m \u001b[32m153.6/232.6 kB\u001b[0m \u001b[31m4.7 MB/s\u001b[0m eta \u001b[36m0:00:01\u001b[0m\r\u001b[2K   \u001b[90m━━━━━━━━━━━━━━━━━━━━━━━━━━━━━━━━━━━━━━━━\u001b[0m \u001b[32m232.6/232.6 kB\u001b[0m \u001b[31m4.4 MB/s\u001b[0m eta \u001b[36m0:00:00\u001b[0m\n",
            "\u001b[?25hInstalling collected packages: PyPDF2\n",
            "Successfully installed PyPDF2-3.0.1\n"
          ]
        }
      ]
    },
    {
      "cell_type": "code",
      "execution_count": 6,
      "metadata": {
        "id": "EkbosWUGubn6"
      },
      "outputs": [],
      "source": [
        "from collections import defaultdict, Counter\n",
        "import numpy as np\n",
        "import re\n",
        "import os\n",
        "import PyPDF2\n",
        "from math import log\n"
      ]
    },
    {
      "cell_type": "code",
      "source": [],
      "metadata": {
        "id": "2smCXNDPxK0w"
      },
      "execution_count": null,
      "outputs": []
    },
    {
      "cell_type": "code",
      "source": [
        "def preprocess(text):\n",
        "    \"\"\"Cleans text by removing special characters and converting it to lowercase.\"\"\"\n",
        "    text = re.sub(r'\\W+', ' ', text)  # Remove non-alphanumeric characters\n",
        "    return text.lower()\n"
      ],
      "metadata": {
        "id": "DCgDFFo1wVME"
      },
      "execution_count": 7,
      "outputs": []
    },
    {
      "cell_type": "code",
      "source": [
        "def load_documents(path):\n",
        "    \"\"\"Loads and preprocesses all documents (PDFs) from a given path.\"\"\"\n",
        "    documents = []\n",
        "    for filename in os.listdir(path):\n",
        "        if filename.endswith('.pdf'):\n",
        "            with open(os.path.join(path, filename), 'rb') as file:\n",
        "                reader = PyPDF2.PdfReader(file)\n",
        "                text = ''\n",
        "                for page in reader.pages:\n",
        "                    text += page.extract_text()\n",
        "                documents.append(preprocess(text))\n",
        "    return documents\n"
      ],
      "metadata": {
        "id": "4nOuXT_QwWpB"
      },
      "execution_count": 8,
      "outputs": []
    },
    {
      "cell_type": "code",
      "source": [
        "def load_queries(file_path):\n",
        "    \"\"\"Loads queries from a specified text file.\"\"\"\n",
        "    with open(file_path, 'r', encoding='utf-8') as file:\n",
        "        queries = [line.strip() for line in file.readlines()]\n",
        "    return queries\n"
      ],
      "metadata": {
        "id": "iDpPsUNNw88A"
      },
      "execution_count": 9,
      "outputs": []
    },
    {
      "cell_type": "code",
      "source": [
        "def compute_statistics(documents):\n",
        "    \"\"\"Computes term frequencies, document frequencies, and document lengths.\"\"\"\n",
        "    term_frequency = defaultdict(Counter)\n",
        "    document_frequency = defaultdict(int)\n",
        "    document_lengths = []\n",
        "\n",
        "    for i, doc in enumerate(documents):\n",
        "        words = doc.split()\n",
        "        doc_length = len(words)\n",
        "        document_lengths.append(doc_length)\n",
        "\n",
        "        for word in words:\n",
        "            term_frequency[word][i] += 1  # Increment term count in doc i\n",
        "\n",
        "        for word in set(words):\n",
        "            document_frequency[word] += 1  # Increment document frequency for the word\n",
        "\n",
        "    avg_doc_length = np.mean(document_lengths)\n",
        "    return term_frequency, document_frequency, document_lengths, avg_doc_length\n"
      ],
      "metadata": {
        "id": "eY3Osko8w-jC"
      },
      "execution_count": 10,
      "outputs": []
    },
    {
      "cell_type": "code",
      "source": [
        "def compute_corpus_probabilities(documents):\n",
        "    \"\"\"Calculates corpus-wide word probabilities.\"\"\"\n",
        "    corpus_frequency = defaultdict(int)\n",
        "    total_words = 0\n",
        "\n",
        "    for doc in documents:\n",
        "        words = doc.split()\n",
        "        for word in words:\n",
        "            corpus_frequency[word] += 1\n",
        "        total_words += len(words)\n",
        "\n",
        "    # Probability of each word in the entire corpus\n",
        "    corpus_prob = {word: freq / total_words for word, freq in corpus_frequency.items()}\n",
        "    return corpus_prob\n"
      ],
      "metadata": {
        "id": "0EYEwGTaxAlL"
      },
      "execution_count": 11,
      "outputs": []
    },
    {
      "cell_type": "code",
      "source": [
        "def compute_bm25_scores(query, documents, term_frequency, document_frequency, document_lengths, avg_doc_length, k1=1.5, b=0.75):\n",
        "    \"\"\"Calculates BM25 scores for the query and documents.\"\"\"\n",
        "    N = len(documents)  # Number of documents\n",
        "    scores = {}\n",
        "\n",
        "    for i, doc in enumerate(documents):\n",
        "        score = 0\n",
        "        doc_length = document_lengths[i]\n",
        "        for word in query.split():\n",
        "            if word in document_frequency:\n",
        "                idf = log((N - document_frequency[word] + 0.5) / (document_frequency[word] + 0.5) + 1)\n",
        "                tf = term_frequency[word][i]\n",
        "                score += idf * ((tf * (k1 + 1)) / (tf + k1 * (1 - b + b * (doc_length / avg_doc_length))))\n",
        "        scores[i] = score\n",
        "    return scores\n"
      ],
      "metadata": {
        "id": "kI4ZtJd-xCl8"
      },
      "execution_count": 12,
      "outputs": []
    },
    {
      "cell_type": "code",
      "source": [
        "def compute_jm_scores(query, documents, term_frequency, document_lengths, corpus_word_prob, lambda_param=0.7):\n",
        "    \"\"\"Calculates Jelinek-Mercer smoothing scores for the query and documents.\"\"\"\n",
        "    scores = {}\n",
        "\n",
        "    for i, doc in enumerate(documents):\n",
        "        score = 1\n",
        "        for word in query.split():\n",
        "            term_prob_doc = term_frequency[word][i] / document_lengths[i] if term_frequency[word][i] else 0\n",
        "            term_prob_corpus = corpus_word_prob[word] if word in corpus_word_prob else 0\n",
        "            score *= (lambda_param * term_prob_doc) + ((1 - lambda_param) * term_prob_corpus)\n",
        "        scores[i] = score\n",
        "    return scores\n"
      ],
      "metadata": {
        "id": "NQgCBroMxEd_"
      },
      "execution_count": 13,
      "outputs": []
    },
    {
      "cell_type": "code",
      "source": [
        "path_to_documents = \"/content/drive/My Drive/News\"\n",
        "documents = load_documents(path_to_documents)\n",
        "\n",
        "queries_file_path = \"/content/drive/My Drive/News/Queries.txt\"\n",
        "queries = load_queries(queries_file_path)\n"
      ],
      "metadata": {
        "id": "3ewFfzdRxGkW"
      },
      "execution_count": 14,
      "outputs": []
    },
    {
      "cell_type": "code",
      "source": [
        "term_frequency, document_frequency, document_lengths, avg_doc_length = compute_statistics(documents)\n",
        "corpus_prob = compute_corpus_probabilities(documents)\n"
      ],
      "metadata": {
        "id": "wWxjofWpxqEk"
      },
      "execution_count": 15,
      "outputs": []
    },
    {
      "cell_type": "code",
      "source": [
        "for query in queries:\n",
        "    bm25_scores = compute_bm25_scores(query, documents, term_frequency, document_frequency, document_lengths, avg_doc_length)\n",
        "    jm_scores = compute_jm_scores(query, documents, term_frequency, document_lengths, corpus_prob)\n",
        "    print(f\"Query: {query}\\nBM25 Scores: {bm25_scores}\\nJelinek-Mercer Scores: {jm_scores}\\n\")\n"
      ],
      "metadata": {
        "id": "iybb2Cx0xrvt",
        "outputId": "b30ba353-9201-473a-fd6a-980e09826b26",
        "colab": {
          "base_uri": "https://localhost:8080/"
        }
      },
      "execution_count": 16,
      "outputs": [
        {
          "output_type": "stream",
          "name": "stdout",
          "text": [
            "Query: Top news in Nepal\n",
            "BM25 Scores: {0: 0.9880331176070418, 1: 0.0, 2: 0.9863711296388644, 3: 0.996674819285081, 4: 0.9848585684005589, 5: 0.3621647943600512, 6: 0.8096808926081307, 7: 0.995424544652235, 8: 0.9143220083959823, 9: 0.9974168710128559}\n",
            "Jelinek-Mercer Scores: {0: 0.0, 1: 0.0, 2: 0.0, 3: 0.0, 4: 0.0, 5: 0.0, 6: 0.0, 7: 0.0, 8: 0.0, 9: 0.0}\n",
            "\n",
            "Query: Impact of economic recession in Nepal\n",
            "BM25 Scores: {0: 0.7192482580523278, 1: 0.0, 2: 0.7266062252047922, 3: 3.3560448193991577, 4: 0.7227144340578676, 5: 2.7169509438860757, 6: 3.0692929248818657, 7: 0.7258347389034157, 8: 3.1207195107217647, 9: 0.7244760263530663}\n",
            "Jelinek-Mercer Scores: {0: 0.0, 1: 0.0, 2: 0.0, 3: 0.0, 4: 0.0, 5: 0.0, 6: 0.0, 7: 0.0, 8: 0.0, 9: 0.0}\n",
            "\n",
            "Query: Political news in Nepal\n",
            "BM25 Scores: {0: 0.9880331176070418, 1: 0.0, 2: 0.9863711296388644, 3: 0.996674819285081, 4: 0.9848585684005589, 5: 0.3621647943600512, 6: 0.8096808926081307, 7: 0.995424544652235, 8: 0.9143220083959823, 9: 0.9974168710128559}\n",
            "Jelinek-Mercer Scores: {0: 0.0, 1: 0.0, 2: 0.0, 3: 0.0, 4: 0.0, 5: 0.0, 6: 0.0, 7: 0.0, 8: 0.0, 9: 0.0}\n",
            "\n",
            "Query: Latest sports news in Nepal\n",
            "BM25 Scores: {0: 2.780810929235344, 1: 0.0, 2: 1.9982516262090253, 3: 2.3976943037750345, 4: 2.8620336224424126, 5: 0.3621647943600512, 6: 0.8096808926081307, 7: 0.995424544652235, 8: 0.9143220083959823, 9: 0.9974168710128559}\n",
            "Jelinek-Mercer Scores: {0: 0.0, 1: 0.0, 2: 0.0, 3: 0.0, 4: 0.0, 5: 0.0, 6: 0.0, 7: 0.0, 8: 0.0, 9: 0.0}\n",
            "\n",
            "Query: Weather updates in Nepal\n",
            "BM25 Scores: {0: 0.3573364999843303, 1: 0.0, 2: 0.362730321087941, 3: 0.35988667521278744, 4: 0.35966158146666694, 5: 0.3621647943600512, 6: 0.3630304549231106, 7: 1.897627715647522, 8: 0.3620935981569263, 9: 0.3615553851888213}\n",
            "Jelinek-Mercer Scores: {0: 0.0, 1: 0.0, 2: 0.0, 3: 0.0, 4: 0.0, 5: 0.0, 6: 0.0, 7: 0.0, 8: 0.0, 9: 0.0}\n",
            "\n",
            "Query: Nepal's economy and investment\n",
            "BM25 Scores: {0: 1.4160932026015045, 1: 0.0, 2: 0.3613113554715641, 3: 1.1875176355535375, 4: 1.3489696417961443, 5: 1.0646148253527263, 6: 1.0613096629409073, 7: 1.8996501529287553, 8: 0.9696153931979515, 9: 0.360337909354055}\n",
            "Jelinek-Mercer Scores: {0: 0.0, 1: 0.0, 2: 0.0, 3: 0.0, 4: 0.0, 5: 0.0, 6: 0.0, 7: 0.0, 8: 0.0, 9: 0.0}\n",
            "\n",
            "Query: Health-related updates in Nepal\n",
            "BM25 Scores: {0: 0.3573364999843303, 1: 0.0, 2: 0.362730321087941, 3: 0.35988667521278744, 4: 0.35966158146666694, 5: 0.3621647943600512, 6: 0.3630304549231106, 7: 1.897627715647522, 8: 0.3620935981569263, 9: 0.3615553851888213}\n",
            "Jelinek-Mercer Scores: {0: 0.0, 1: 0.0, 2: 0.0, 3: 0.0, 4: 0.0, 5: 0.0, 6: 0.0, 7: 0.0, 8: 0.0, 9: 0.0}\n",
            "\n",
            "Query: Cultural events in Nepal\n",
            "BM25 Scores: {0: 0.3573364999843303, 1: 0.0, 2: 0.362730321087941, 3: 2.921077990973855, 4: 0.35966158146666694, 5: 0.3621647943600512, 6: 0.3630304549231106, 7: 1.503885165794969, 8: 0.3620935981569263, 9: 0.3615553851888213}\n",
            "Jelinek-Mercer Scores: {0: 0.0, 1: 0.0, 2: 0.0, 3: 0.0, 4: 0.0, 5: 0.0, 6: 0.0, 7: 0.0, 8: 0.0, 9: 0.0}\n",
            "\n",
            "Query: Current status of the Nepali film industry\n",
            "BM25 Scores: {0: 0.7267432075999263, 1: 0.0, 2: 0.7282878174428109, 3: 0.7287491354150982, 4: 0.7277137829998175, 5: 3.433478144708908, 6: 0.7272844831657905, 7: 2.5624372858053057, 8: 1.584565951443357, 9: 0.7271010041787158}\n",
            "Jelinek-Mercer Scores: {0: 0.0, 1: 0.0, 2: 0.0, 3: 0.0, 4: 0.0, 5: 0.0, 6: 0.0, 7: 0.0, 8: 0.0, 9: 0.0}\n",
            "\n",
            "Query: Education system and reforms in Nepal\n",
            "BM25 Scores: {0: 1.0069944905587855, 1: 0.0, 2: 0.7240416765595051, 3: 1.0633859059344177, 4: 0.9984056057205016, 5: 3.8295997835446878, 6: 0.9595545508890853, 7: 0.9244956358549887, 8: 1.299628065673371, 9: 1.2418150423251404}\n",
            "Jelinek-Mercer Scores: {0: 0.0, 1: 0.0, 2: 0.0, 3: 0.0, 4: 0.0, 5: 0.0, 6: 0.0, 7: 0.0, 8: 0.0, 9: 0.0}\n",
            "\n",
            "Query: Tourist destinations in Nepal\n",
            "BM25 Scores: {0: 0.3573364999843303, 1: 0.0, 2: 0.362730321087941, 3: 0.35988667521278744, 4: 0.35966158146666694, 5: 0.3621647943600512, 6: 0.3630304549231106, 7: 0.3618697251524207, 8: 0.3620935981569263, 9: 0.3615553851888213}\n",
            "Jelinek-Mercer Scores: {0: 0.0, 1: 0.0, 2: 0.0, 3: 0.0, 4: 0.0, 5: 0.0, 6: 0.0, 7: 0.0, 8: 0.0, 9: 0.0}\n",
            "\n",
            "Query: Situation of Nepali diaspora\n",
            "BM25 Scores: {0: 3.1936848289400306, 1: 0.0, 2: 0.3638759041168512, 3: 0.36402880769154916, 4: 3.141425639016023, 5: 0.36365301634674463, 6: 0.3626821657812427, 7: 0.3639650137509949, 8: 0.3631351334847478, 9: 0.36292064116424505}\n",
            "Jelinek-Mercer Scores: {0: 0.0, 1: 0.0, 2: 0.0, 3: 0.0, 4: 0.0, 5: 0.0, 6: 0.0, 7: 0.0, 8: 0.0, 9: 0.0}\n",
            "\n",
            "Query: Development plans in Nepal\n",
            "BM25 Scores: {0: 0.3573364999843303, 1: 0.0, 2: 0.362730321087941, 3: 0.35988667521278744, 4: 0.35966158146666694, 5: 0.3621647943600512, 6: 0.3630304549231106, 7: 0.3618697251524207, 8: 2.6569392251861967, 9: 0.3615553851888213}\n",
            "Jelinek-Mercer Scores: {0: 0.0, 1: 0.0, 2: 0.0, 3: 0.0, 4: 0.0, 5: 0.0, 6: 0.0, 7: 0.0, 8: 0.0, 9: 0.0}\n",
            "\n",
            "Query: Daily Nepali newspapers\n",
            "BM25 Scores: {0: 0.0, 1: 0.0, 2: 1.5054820364884007, 3: 1.6681430675015227, 4: 0.0, 5: 1.2833855465950101, 6: 0.0, 7: 1.4153487926191206, 8: 0.0, 9: 1.1712530676472133}\n",
            "Jelinek-Mercer Scores: {0: 0.0, 1: 0.0, 2: 0.0, 3: 0.0, 4: 0.0, 5: 0.0, 6: 0.0, 7: 0.0, 8: 0.0, 9: 0.0}\n",
            "\n"
          ]
        }
      ]
    }
  ]
}